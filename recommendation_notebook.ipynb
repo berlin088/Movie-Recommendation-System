{
 "cells": [
  {
   "cell_type": "markdown",
   "metadata": {},
   "source": [
    "# Recommendation System Notebook"
   ]
  },
  {
   "cell_type": "code",
   "execution_count": null,
   "metadata": {},
   "outputs": [],
   "source": [
    "from src.data_utils import create_synthetic_ratings, preprocess_ratings",
    "\nfrom src.models import truncated_svd_predict",
    "\nimport pickle",
    "\nratings = create_synthetic_ratings()",
    "\nratings_proc, user2idx, item2idx, R = preprocess_ratings(ratings)",
    "\nfrom scipy.sparse import csr_matrix",
    "\nfrom sklearn.model_selection import train_test_split",
    "\ntrain_df, test_df = train_test_split(ratings_proc, test_size=0.2, random_state=42)",
    "\nR_train = csr_matrix((train_df['rating'], (train_df['u_idx'], train_df['i_idx'])), shape=R.shape)",
    "\nsvd, R_pred = truncated_svd_predict(R_train, n_components=20)",
    "\npickle.dump(R_pred, open('artifacts/R_pred.pkl','wb'))",
    "\nR_pred[:5]"
   ]
  }
 ],
 "metadata": {},
 "nbformat": 4,
 "nbformat_minor": 5
}
